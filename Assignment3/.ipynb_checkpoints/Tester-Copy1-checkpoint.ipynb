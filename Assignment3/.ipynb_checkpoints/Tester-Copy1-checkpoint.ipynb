{
 "cells": [
  {
   "cell_type": "code",
   "execution_count": 85,
   "metadata": {},
   "outputs": [],
   "source": [
    "'''\n",
    "Design of a Neural Network from scratch\n",
    "\n",
    "*************<IMP>*************\n",
    "Mention hyperparameters used and describe functionality in detail in this space\n",
    "- carries 1 mark\n",
    "'''\n",
    "from sklearn.model_selection import train_test_split\n",
    "import pandas as pd\n",
    "import numpy as np\n",
    "class NN: \n",
    "    parameters = list()\n",
    "    \n",
    "    def init_params(self,neuron_count_per_layer):\n",
    "        np.random.seed(10)\n",
    "        num_layers = len(neuron_count_per_layer)\n",
    "        params = [None for i in range(2*(num_layers-1))]\n",
    "        for i in range(1,num_layers):\n",
    "            params[2*i-2]=np.random.randn(neuron_count_per_layer[i], neuron_count_per_layer[i-1]) * 0.01\n",
    "            params[2*i-1]=np.zeros((neuron_count_per_layer[i], 1))\n",
    "        #print(params)\n",
    "        return params\n",
    "    \n",
    "    #Clean the data by replacing the null values with the mean/median/mode of the column\n",
    "    def data_clean(self,df):\n",
    "        df.columns = df.columns.str.strip()\n",
    "        for column in df.columns:\n",
    "            if column in ['Weight','HB','BP']:\n",
    "                df[column].fillna(value=df[column].mean(), inplace=True)\n",
    "            elif column in ['Community','Delivery phase','IFA','Education']:\n",
    "                df[column].fillna(value=df[column].mode()[0], inplace=True)\n",
    "            else:\n",
    "                df[column].fillna(value=df[column].median(), inplace=True)\n",
    "        return df\n",
    "    \n",
    "    def relu(self,Z):\n",
    "        return np.maximum(0,Z),Z\n",
    "    \n",
    "    def sigmoid(self,Z):\n",
    "        return 1/(1+np.exp(-Z)),Z\n",
    "    \n",
    "    def compute_activation(self,A,weight,bias,activation):\n",
    "        Z = weight@A + bias\n",
    "        cache1 = (A,weight,bias)\n",
    "        if activation=='relu':\n",
    "            A1,cache2 = self.relu(Z)\n",
    "        else:\n",
    "            A1,cache2 = self.sigmoid(Z)\n",
    "        return A1,(cache1,cache2)\n",
    "     \n",
    "    def compute_gradients(self,dA,vals,activation):\n",
    "        cache1,cache2 = vals\n",
    "        if activation=='relu':\n",
    "            dZ = np.array(dA,copy=True)\n",
    "            #print(cache2.shape,dA.shape)\n",
    "            dZ[cache2<=0]=0\n",
    "        if activation=='sigmoid':\n",
    "            sig = 1/(1+np.exp(-cache2))\n",
    "            dZ = dA * sig * (1-sig)\n",
    "        A_prev, W, b = cache1\n",
    "        x = A_prev.shape[1]\n",
    "        dW = 1 / x * dZ @ A_prev.T\n",
    "        db = 1 / x * np.sum(dZ, axis=1, keepdims=True)\n",
    "        dA_prev = W.T @ dZ\n",
    "        return dA_prev,dW,db\n",
    "            \n",
    "    \n",
    "    def forward_propogation(self,X,parameters):\n",
    "        num_layers = len(parameters)//2\n",
    "        back_prop_values = []\n",
    "        A = X\n",
    "        \n",
    "        for i in range(1,num_layers):\n",
    "            prev_act = A\n",
    "            weight = parameters[2*i-2]\n",
    "            bias = parameters[2*i-1]\n",
    "            A,back_prop_value = self.compute_activation(prev_act,weight,bias,activation='relu')\n",
    "            back_prop_values.append(back_prop_value)\n",
    "        \n",
    "    \n",
    "        #For Last layer i.e sigmoid \n",
    "        A,back_prop_value = self.compute_activation(A,parameters[-2],parameters[-1],activation='sigmoid')\n",
    "        back_prop_values.append(back_prop_value) \n",
    "        #print(len(back_prop_values))\n",
    "        return A,back_prop_values\n",
    "    \n",
    "    def back_propogation(self,Y,activations,parameters,back_prop_values,alpha):\n",
    "        #Computing the necessary derivatives\n",
    "        gradients = {}\n",
    "        num_layers = len(parameters)//2\n",
    "        Y.reshape(activations.shape)\n",
    "        dA = - (np.divide(Y, activations) - np.divide(1 - Y, 1 - activations))\n",
    "        #print(dA.shape)\n",
    "        vals = back_prop_values[num_layers-1]\n",
    "        gradients[\"dA\" + str(num_layers-1)], gradients[\"dW\" + str(num_layers)], gradients[\"db\" + str(num_layers)] = self.compute_gradients(dA,vals,'sigmoid')\n",
    "        for layer in reversed(range(num_layers-1)):\n",
    "            vals = back_prop_values[layer]\n",
    "            gradients[\"dA\" + str(layer)], gradients[\"dW\" + str(layer + 1)], gradients[\"db\" + str(layer + 1)] = self.compute_gradients(gradients['dA'+str(layer+1)], vals, 'relu')\n",
    "        \n",
    "        #Updating the parameters\n",
    "        for i in range(1,num_layers+1):\n",
    "            parameters[2*i-2]=parameters[2*i-2] - alpha * gradients['dW'+str(i)]\n",
    "            parameters[2*i-1]=parameters[2*i-1] - alpha * gradients['db'+str(i)]\n",
    "        \n",
    "        return parameters\n",
    "        \n",
    "\n",
    "    def calc_cost(self,A,Y):\n",
    "        return np.squeeze(-1 / len(Y) * np.sum(Y * np.log(A) + (1-Y) * np.log(1-A)))\n",
    "\n",
    "    ''' X and Y are dataframes '''\n",
    "\n",
    "    def fit(self,X,Y):\n",
    "        '''\n",
    "        Function that trains the neural network by taking x_train and y_train samples as input\n",
    "        '''\n",
    "\n",
    "        #Clean the data\n",
    "        X = self.data_clean(X)\n",
    "        #Set hyperparameters\n",
    "        num_itertations = 20000\n",
    "        alpha = 0.1\n",
    "        \n",
    "    \n",
    "        #Init parameters\n",
    "        neuron_count_per_layer = [9,30,30,25,1]\n",
    "        self.parameters = self.init_params(neuron_count_per_layer)\n",
    "        \n",
    "        #Making necessary changes to dimensions\n",
    "        X = np.transpose(np.array(X))\n",
    "        Y = np.array(Y)\n",
    "        Y = np.reshape(Y,(1,Y.shape[0]))\n",
    "        \n",
    "        for i in range(1,num_itertations+1):\n",
    "            #Fp\n",
    "            activations,back_prop_values = self.forward_propogation(X,self.parameters)\n",
    "            #Bp\n",
    "            self.parameters = self.back_propogation(Y,activations,self.parameters,back_prop_values,alpha)\n",
    "            #Print Cost after every 500 iters\n",
    "            if i%500==0:\n",
    "                print('Cost after iter '+str(i)+ ':' + str(self.calc_cost(activations,Y)/100))\n",
    " \n",
    "        \n",
    "        \n",
    "        \n",
    "    \n",
    "    def predict(self,X):\n",
    "\n",
    "        \"\"\"\n",
    "        The predict function performs a simple feed forward of weights\n",
    "        and outputs yhat values \n",
    "\n",
    "        yhat is a list of the predicted value for df X\n",
    "        \"\"\"\n",
    "        yhat = []\n",
    "        X = self.data_clean(X)\n",
    "        X = np.transpose(np.array(X))\n",
    "        yhat = self.forward_propogation(X,self.parameters)[0][0]\n",
    "        return yhat\n",
    "\n",
    "    def CM(self,y_test,y_test_obs):\n",
    "        '''\n",
    "        Prints confusion matrix \n",
    "        y_test is list of y values in the test dataset\n",
    "        y_test_obs is list of y values predicted by the model\n",
    "\n",
    "        '''\n",
    "\n",
    "        for i in range(len(y_test_obs)):\n",
    "            if(y_test_obs[i]>0.6):\n",
    "                y_test_obs[i]=1\n",
    "            else:\n",
    "                y_test_obs[i]=0\n",
    "\n",
    "        cm=[[0,0],[0,0]]\n",
    "        fp=0\n",
    "        fn=0\n",
    "        tp=0\n",
    "        tn=0\n",
    "\n",
    "        for i in range(len(y_test)):\n",
    "            if(y_test[i]==1 and y_test_obs[i]==1):\n",
    "                tp=tp+1\n",
    "            if(y_test[i]==0 and y_test_obs[i]==0):\n",
    "                tn=tn+1\n",
    "            if(y_test[i]==1 and y_test_obs[i]==0):\n",
    "                fp=fp+1\n",
    "            if(y_test[i]==0 and y_test_obs[i]==1):\n",
    "                fn=fn+1\n",
    "        cm[0][0]=tn\n",
    "        cm[0][1]=fp\n",
    "        cm[1][0]=fn\n",
    "        cm[1][1]=tp\n",
    "\n",
    "        p= tp/(tp+fp)\n",
    "        r=tp/(tp+fn)\n",
    "        f1=(2*p*r)/(p+r)\n",
    "        acc = (tp+tn)/(tp+tn+fp+fn)\n",
    "        print(\"Confusion Matrix : \")\n",
    "        print(cm)\n",
    "        print(\"\\n\")\n",
    "        print(f\"Precision : {p}\")\n",
    "        print(f\"Recall : {r}\")\n",
    "        print(f\"F1 SCORE : {f1}\")\n",
    "        print(f\"Accuracy : {acc}\")\n",
    "   \n",
    "\n",
    "\n",
    "\n",
    "\n"
   ]
  },
  {
   "cell_type": "code",
   "execution_count": 45,
   "metadata": {},
   "outputs": [],
   "source": [
    "import pandas as pd\n",
    "df = pd.read_csv('LBW_Dataset.csv')\n",
    "X = df.iloc[:, :-1]\n",
    "y = df.iloc[:, -1]\n",
    "X_train, X_test, y_train, y_test = train_test_split(X, y, test_size = 0.3, random_state = 0)\n"
   ]
  },
  {
   "cell_type": "code",
   "execution_count": 86,
   "metadata": {},
   "outputs": [],
   "source": [
    "nn = NN()"
   ]
  },
  {
   "cell_type": "code",
   "execution_count": 87,
   "metadata": {},
   "outputs": [
    {
     "name": "stdout",
     "output_type": "stream",
     "text": [
      "Cost after iter 500:0.3358885771696138\n",
      "Cost after iter 1000:0.32902573716088773\n",
      "Cost after iter 1500:0.3223572487603984\n",
      "Cost after iter 2000:0.3247240251737678\n",
      "Cost after iter 2500:0.32054758322336996\n",
      "Cost after iter 3000:0.33372565704142515\n",
      "Cost after iter 3500:0.317712172811239\n",
      "Cost after iter 4000:0.32802505401688103\n",
      "Cost after iter 4500:0.3111549532066966\n",
      "Cost after iter 5000:0.3083614443556818\n",
      "Cost after iter 5500:0.29647190740753404\n",
      "Cost after iter 6000:0.28138442528854274\n",
      "Cost after iter 6500:0.3011161345796595\n",
      "Cost after iter 7000:0.29902958955491427\n",
      "Cost after iter 7500:0.3398434189931012\n",
      "Cost after iter 8000:0.3045896461096042\n",
      "Cost after iter 8500:0.25768540932129946\n",
      "Cost after iter 9000:0.30010387257492244\n"
     ]
    },
    {
     "name": "stderr",
     "output_type": "stream",
     "text": [
      "C:\\Users\\Sairam\\Anaconda3\\lib\\site-packages\\ipykernel_launcher.py:92: RuntimeWarning: invalid value encountered in true_divide\n",
      "C:\\Users\\Sairam\\Anaconda3\\lib\\site-packages\\ipykernel_launcher.py:56: RuntimeWarning: invalid value encountered in less_equal\n"
     ]
    },
    {
     "name": "stdout",
     "output_type": "stream",
     "text": [
      "Cost after iter 9500:nan\n",
      "Cost after iter 10000:nan\n",
      "Cost after iter 10500:nan\n",
      "Cost after iter 11000:nan\n",
      "Cost after iter 11500:nan\n",
      "Cost after iter 12000:nan\n",
      "Cost after iter 12500:nan\n",
      "Cost after iter 13000:nan\n",
      "Cost after iter 13500:nan\n",
      "Cost after iter 14000:nan\n",
      "Cost after iter 14500:nan\n",
      "Cost after iter 15000:nan\n",
      "Cost after iter 15500:nan\n",
      "Cost after iter 16000:nan\n"
     ]
    },
    {
     "ename": "KeyboardInterrupt",
     "evalue": "",
     "output_type": "error",
     "traceback": [
      "\u001b[1;31m---------------------------------------------------------------------------\u001b[0m",
      "\u001b[1;31mKeyboardInterrupt\u001b[0m                         Traceback (most recent call last)",
      "\u001b[1;32m<ipython-input-87-e0ec69b256f5>\u001b[0m in \u001b[0;36m<module>\u001b[1;34m\u001b[0m\n\u001b[1;32m----> 1\u001b[1;33m \u001b[0mnn\u001b[0m\u001b[1;33m.\u001b[0m\u001b[0mfit\u001b[0m\u001b[1;33m(\u001b[0m\u001b[0mX_train\u001b[0m\u001b[1;33m,\u001b[0m\u001b[0my_train\u001b[0m\u001b[1;33m)\u001b[0m\u001b[1;33m\u001b[0m\u001b[1;33m\u001b[0m\u001b[0m\n\u001b[0m",
      "\u001b[1;32m<ipython-input-85-1e52e8a26ac4>\u001b[0m in \u001b[0;36mfit\u001b[1;34m(self, X, Y)\u001b[0m\n\u001b[0;32m    136\u001b[0m             \u001b[0mactivations\u001b[0m\u001b[1;33m,\u001b[0m\u001b[0mback_prop_values\u001b[0m \u001b[1;33m=\u001b[0m \u001b[0mself\u001b[0m\u001b[1;33m.\u001b[0m\u001b[0mforward_propogation\u001b[0m\u001b[1;33m(\u001b[0m\u001b[0mX\u001b[0m\u001b[1;33m,\u001b[0m\u001b[0mself\u001b[0m\u001b[1;33m.\u001b[0m\u001b[0mparameters\u001b[0m\u001b[1;33m)\u001b[0m\u001b[1;33m\u001b[0m\u001b[1;33m\u001b[0m\u001b[0m\n\u001b[0;32m    137\u001b[0m             \u001b[1;31m#Bp\u001b[0m\u001b[1;33m\u001b[0m\u001b[1;33m\u001b[0m\u001b[1;33m\u001b[0m\u001b[0m\n\u001b[1;32m--> 138\u001b[1;33m             \u001b[0mself\u001b[0m\u001b[1;33m.\u001b[0m\u001b[0mparameters\u001b[0m \u001b[1;33m=\u001b[0m \u001b[0mself\u001b[0m\u001b[1;33m.\u001b[0m\u001b[0mback_propogation\u001b[0m\u001b[1;33m(\u001b[0m\u001b[0mY\u001b[0m\u001b[1;33m,\u001b[0m\u001b[0mactivations\u001b[0m\u001b[1;33m,\u001b[0m\u001b[0mself\u001b[0m\u001b[1;33m.\u001b[0m\u001b[0mparameters\u001b[0m\u001b[1;33m,\u001b[0m\u001b[0mback_prop_values\u001b[0m\u001b[1;33m,\u001b[0m\u001b[0malpha\u001b[0m\u001b[1;33m)\u001b[0m\u001b[1;33m\u001b[0m\u001b[1;33m\u001b[0m\u001b[0m\n\u001b[0m\u001b[0;32m    139\u001b[0m             \u001b[1;31m#Print Cost after every 500 iters\u001b[0m\u001b[1;33m\u001b[0m\u001b[1;33m\u001b[0m\u001b[1;33m\u001b[0m\u001b[0m\n\u001b[0;32m    140\u001b[0m             \u001b[1;32mif\u001b[0m \u001b[0mi\u001b[0m\u001b[1;33m%\u001b[0m\u001b[1;36m500\u001b[0m\u001b[1;33m==\u001b[0m\u001b[1;36m0\u001b[0m\u001b[1;33m:\u001b[0m\u001b[1;33m\u001b[0m\u001b[1;33m\u001b[0m\u001b[0m\n",
      "\u001b[1;32m<ipython-input-85-1e52e8a26ac4>\u001b[0m in \u001b[0;36mback_propogation\u001b[1;34m(self, Y, activations, parameters, back_prop_values, alpha)\u001b[0m\n\u001b[0;32m     96\u001b[0m         \u001b[1;32mfor\u001b[0m \u001b[0mlayer\u001b[0m \u001b[1;32min\u001b[0m \u001b[0mreversed\u001b[0m\u001b[1;33m(\u001b[0m\u001b[0mrange\u001b[0m\u001b[1;33m(\u001b[0m\u001b[0mnum_layers\u001b[0m\u001b[1;33m-\u001b[0m\u001b[1;36m1\u001b[0m\u001b[1;33m)\u001b[0m\u001b[1;33m)\u001b[0m\u001b[1;33m:\u001b[0m\u001b[1;33m\u001b[0m\u001b[1;33m\u001b[0m\u001b[0m\n\u001b[0;32m     97\u001b[0m             \u001b[0mvals\u001b[0m \u001b[1;33m=\u001b[0m \u001b[0mback_prop_values\u001b[0m\u001b[1;33m[\u001b[0m\u001b[0mlayer\u001b[0m\u001b[1;33m]\u001b[0m\u001b[1;33m\u001b[0m\u001b[1;33m\u001b[0m\u001b[0m\n\u001b[1;32m---> 98\u001b[1;33m             \u001b[0mgradients\u001b[0m\u001b[1;33m[\u001b[0m\u001b[1;34m\"dA\"\u001b[0m \u001b[1;33m+\u001b[0m \u001b[0mstr\u001b[0m\u001b[1;33m(\u001b[0m\u001b[0mlayer\u001b[0m\u001b[1;33m)\u001b[0m\u001b[1;33m]\u001b[0m\u001b[1;33m,\u001b[0m \u001b[0mgradients\u001b[0m\u001b[1;33m[\u001b[0m\u001b[1;34m\"dW\"\u001b[0m \u001b[1;33m+\u001b[0m \u001b[0mstr\u001b[0m\u001b[1;33m(\u001b[0m\u001b[0mlayer\u001b[0m \u001b[1;33m+\u001b[0m \u001b[1;36m1\u001b[0m\u001b[1;33m)\u001b[0m\u001b[1;33m]\u001b[0m\u001b[1;33m,\u001b[0m \u001b[0mgradients\u001b[0m\u001b[1;33m[\u001b[0m\u001b[1;34m\"db\"\u001b[0m \u001b[1;33m+\u001b[0m \u001b[0mstr\u001b[0m\u001b[1;33m(\u001b[0m\u001b[0mlayer\u001b[0m \u001b[1;33m+\u001b[0m \u001b[1;36m1\u001b[0m\u001b[1;33m)\u001b[0m\u001b[1;33m]\u001b[0m \u001b[1;33m=\u001b[0m \u001b[0mself\u001b[0m\u001b[1;33m.\u001b[0m\u001b[0mcompute_gradients\u001b[0m\u001b[1;33m(\u001b[0m\u001b[0mgradients\u001b[0m\u001b[1;33m[\u001b[0m\u001b[1;34m'dA'\u001b[0m\u001b[1;33m+\u001b[0m\u001b[0mstr\u001b[0m\u001b[1;33m(\u001b[0m\u001b[0mlayer\u001b[0m\u001b[1;33m+\u001b[0m\u001b[1;36m1\u001b[0m\u001b[1;33m)\u001b[0m\u001b[1;33m]\u001b[0m\u001b[1;33m,\u001b[0m \u001b[0mvals\u001b[0m\u001b[1;33m,\u001b[0m \u001b[1;34m'relu'\u001b[0m\u001b[1;33m)\u001b[0m\u001b[1;33m\u001b[0m\u001b[1;33m\u001b[0m\u001b[0m\n\u001b[0m\u001b[0;32m     99\u001b[0m \u001b[1;33m\u001b[0m\u001b[0m\n\u001b[0;32m    100\u001b[0m         \u001b[1;31m#Updating the parameters\u001b[0m\u001b[1;33m\u001b[0m\u001b[1;33m\u001b[0m\u001b[1;33m\u001b[0m\u001b[0m\n",
      "\u001b[1;32m<ipython-input-85-1e52e8a26ac4>\u001b[0m in \u001b[0;36mcompute_gradients\u001b[1;34m(self, dA, vals, activation)\u001b[0m\n\u001b[0;32m     61\u001b[0m         \u001b[0mx\u001b[0m \u001b[1;33m=\u001b[0m \u001b[0mA_prev\u001b[0m\u001b[1;33m.\u001b[0m\u001b[0mshape\u001b[0m\u001b[1;33m[\u001b[0m\u001b[1;36m1\u001b[0m\u001b[1;33m]\u001b[0m\u001b[1;33m\u001b[0m\u001b[1;33m\u001b[0m\u001b[0m\n\u001b[0;32m     62\u001b[0m         \u001b[0mdW\u001b[0m \u001b[1;33m=\u001b[0m \u001b[1;36m1\u001b[0m \u001b[1;33m/\u001b[0m \u001b[0mx\u001b[0m \u001b[1;33m*\u001b[0m \u001b[0mdZ\u001b[0m \u001b[1;33m@\u001b[0m \u001b[0mA_prev\u001b[0m\u001b[1;33m.\u001b[0m\u001b[0mT\u001b[0m\u001b[1;33m\u001b[0m\u001b[1;33m\u001b[0m\u001b[0m\n\u001b[1;32m---> 63\u001b[1;33m         \u001b[0mdb\u001b[0m \u001b[1;33m=\u001b[0m \u001b[1;36m1\u001b[0m \u001b[1;33m/\u001b[0m \u001b[0mx\u001b[0m \u001b[1;33m*\u001b[0m \u001b[0mnp\u001b[0m\u001b[1;33m.\u001b[0m\u001b[0msum\u001b[0m\u001b[1;33m(\u001b[0m\u001b[0mdZ\u001b[0m\u001b[1;33m,\u001b[0m \u001b[0maxis\u001b[0m\u001b[1;33m=\u001b[0m\u001b[1;36m1\u001b[0m\u001b[1;33m,\u001b[0m \u001b[0mkeepdims\u001b[0m\u001b[1;33m=\u001b[0m\u001b[1;32mTrue\u001b[0m\u001b[1;33m)\u001b[0m\u001b[1;33m\u001b[0m\u001b[1;33m\u001b[0m\u001b[0m\n\u001b[0m\u001b[0;32m     64\u001b[0m         \u001b[0mdA_prev\u001b[0m \u001b[1;33m=\u001b[0m \u001b[0mW\u001b[0m\u001b[1;33m.\u001b[0m\u001b[0mT\u001b[0m \u001b[1;33m@\u001b[0m \u001b[0mdZ\u001b[0m\u001b[1;33m\u001b[0m\u001b[1;33m\u001b[0m\u001b[0m\n\u001b[0;32m     65\u001b[0m         \u001b[1;32mreturn\u001b[0m \u001b[0mdA_prev\u001b[0m\u001b[1;33m,\u001b[0m\u001b[0mdW\u001b[0m\u001b[1;33m,\u001b[0m\u001b[0mdb\u001b[0m\u001b[1;33m\u001b[0m\u001b[1;33m\u001b[0m\u001b[0m\n",
      "\u001b[1;32m~\\Anaconda3\\lib\\site-packages\\numpy\\core\\fromnumeric.py\u001b[0m in \u001b[0;36msum\u001b[1;34m(a, axis, dtype, out, keepdims, initial)\u001b[0m\n\u001b[0;32m   2074\u001b[0m \u001b[1;33m\u001b[0m\u001b[0m\n\u001b[0;32m   2075\u001b[0m     return _wrapreduction(a, np.add, 'sum', axis, dtype, out, keepdims=keepdims,\n\u001b[1;32m-> 2076\u001b[1;33m                           initial=initial)\n\u001b[0m\u001b[0;32m   2077\u001b[0m \u001b[1;33m\u001b[0m\u001b[0m\n\u001b[0;32m   2078\u001b[0m \u001b[1;33m\u001b[0m\u001b[0m\n",
      "\u001b[1;32m~\\Anaconda3\\lib\\site-packages\\numpy\\core\\fromnumeric.py\u001b[0m in \u001b[0;36m_wrapreduction\u001b[1;34m(obj, ufunc, method, axis, dtype, out, **kwargs)\u001b[0m\n\u001b[0;32m     84\u001b[0m                 \u001b[1;32mreturn\u001b[0m \u001b[0mreduction\u001b[0m\u001b[1;33m(\u001b[0m\u001b[0maxis\u001b[0m\u001b[1;33m=\u001b[0m\u001b[0maxis\u001b[0m\u001b[1;33m,\u001b[0m \u001b[0mout\u001b[0m\u001b[1;33m=\u001b[0m\u001b[0mout\u001b[0m\u001b[1;33m,\u001b[0m \u001b[1;33m**\u001b[0m\u001b[0mpasskwargs\u001b[0m\u001b[1;33m)\u001b[0m\u001b[1;33m\u001b[0m\u001b[1;33m\u001b[0m\u001b[0m\n\u001b[0;32m     85\u001b[0m \u001b[1;33m\u001b[0m\u001b[0m\n\u001b[1;32m---> 86\u001b[1;33m     \u001b[1;32mreturn\u001b[0m \u001b[0mufunc\u001b[0m\u001b[1;33m.\u001b[0m\u001b[0mreduce\u001b[0m\u001b[1;33m(\u001b[0m\u001b[0mobj\u001b[0m\u001b[1;33m,\u001b[0m \u001b[0maxis\u001b[0m\u001b[1;33m,\u001b[0m \u001b[0mdtype\u001b[0m\u001b[1;33m,\u001b[0m \u001b[0mout\u001b[0m\u001b[1;33m,\u001b[0m \u001b[1;33m**\u001b[0m\u001b[0mpasskwargs\u001b[0m\u001b[1;33m)\u001b[0m\u001b[1;33m\u001b[0m\u001b[1;33m\u001b[0m\u001b[0m\n\u001b[0m\u001b[0;32m     87\u001b[0m \u001b[1;33m\u001b[0m\u001b[0m\n\u001b[0;32m     88\u001b[0m \u001b[1;33m\u001b[0m\u001b[0m\n",
      "\u001b[1;31mKeyboardInterrupt\u001b[0m: "
     ]
    }
   ],
   "source": [
    "nn.fit(X_train,y_train)"
   ]
  },
  {
   "cell_type": "code",
   "execution_count": 83,
   "metadata": {},
   "outputs": [
    {
     "name": "stderr",
     "output_type": "stream",
     "text": [
      "C:\\Users\\Sairam\\Anaconda3\\lib\\site-packages\\pandas\\core\\generic.py:6130: SettingWithCopyWarning: \n",
      "A value is trying to be set on a copy of a slice from a DataFrame\n",
      "\n",
      "See the caveats in the documentation: http://pandas.pydata.org/pandas-docs/stable/indexing.html#indexing-view-versus-copy\n",
      "  self._update_inplace(new_data)\n"
     ]
    },
    {
     "name": "stdout",
     "output_type": "stream",
     "text": [
      "[0.6260476  0.61793145 0.81078178 0.98479414 0.53962577 0.4603836\n",
      " 0.70512989 0.71226076 0.68330888 0.95158199 0.71837652 0.74416737\n",
      " 0.93153211 0.00796239 0.34380006 0.46015509 0.82315048 0.87611452\n",
      " 0.60209598 0.43137929 0.99916847 0.97358587 0.83416654 0.54130124\n",
      " 0.66203327 0.52516099 0.16926046 0.91310644 0.80481914]\n"
     ]
    }
   ],
   "source": [
    "y_hat = nn.predict(X_test)\n",
    "print(y_hat)"
   ]
  },
  {
   "cell_type": "code",
   "execution_count": 84,
   "metadata": {},
   "outputs": [
    {
     "name": "stdout",
     "output_type": "stream",
     "text": [
      "Confusion Matrix : \n",
      "[[4, 5], [4, 16]]\n",
      "\n",
      "\n",
      "Precision : 0.7619047619047619\n",
      "Recall : 0.8\n",
      "F1 SCORE : 0.7804878048780488\n",
      "Accuracy : 0.6896551724137931\n"
     ]
    }
   ],
   "source": [
    "nn.CM(y_test.tolist(),y_hat)"
   ]
  },
  {
   "cell_type": "code",
   "execution_count": 78,
   "metadata": {},
   "outputs": [
    {
     "data": {
      "text/plain": [
       "array([1., 1., 1., 1., 1., 1., 1., 1., 1., 1., 1., 1., 1., 0., 0., 0., 1.,\n",
       "       1., 0., 0., 1., 1., 1., 1., 1., 1., 0., 1., 1.])"
      ]
     },
     "execution_count": 78,
     "metadata": {},
     "output_type": "execute_result"
    }
   ],
   "source": [
    "y_hat"
   ]
  },
  {
   "cell_type": "code",
   "execution_count": null,
   "metadata": {},
   "outputs": [],
   "source": []
  }
 ],
 "metadata": {
  "kernelspec": {
   "display_name": "Python 3",
   "language": "python",
   "name": "python3"
  },
  "language_info": {
   "codemirror_mode": {
    "name": "ipython",
    "version": 3
   },
   "file_extension": ".py",
   "mimetype": "text/x-python",
   "name": "python",
   "nbconvert_exporter": "python",
   "pygments_lexer": "ipython3",
   "version": "3.7.1"
  }
 },
 "nbformat": 4,
 "nbformat_minor": 2
}
